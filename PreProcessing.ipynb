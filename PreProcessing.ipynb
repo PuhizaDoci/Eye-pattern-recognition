{
 "cells": [
  {
   "cell_type": "code",
   "execution_count": 1,
   "metadata": {
    "colab": {
     "base_uri": "https://localhost:8080/",
     "height": 34
    },
    "colab_type": "code",
    "id": "ZEZu6Q22Bi0e",
    "outputId": "2dc357db-4350-4d68-9e73-d67b979b77b3"
   },
   "outputs": [],
   "source": [
    "import os\n",
    "import numpy as np\n",
    "import matplotlib.pyplot as plt\n",
    "from scipy import ndimage, misc\n",
    "import imageio\n",
    "import cv2\n",
    "import time\n",
    "#from google.colab import drive\n",
    "\n",
    "# Accessing My Google Drive\n",
    "#drive.mount('/content/drive')\n"
   ]
  },
  {
   "cell_type": "code",
   "execution_count": 2,
   "metadata": {
    "colab": {},
    "colab_type": "code",
    "id": "DLPUqjHfKIIR"
   },
   "outputs": [],
   "source": [
    "# defining global variable path\n",
    "# Location of my dataset on My Google Drive\n",
    "image_path = r\"C:\\Users\\User\\Documents\\Dataset eye\\Dataset\\Dataset\\Irisimage\"\n",
    "\n",
    "\n",
    "def loadImages(path):\n",
    "    '''Put files into lists and return them as one list with all images \n",
    "     in the folder'''\n",
    "    image_files = [os.path.join(path, file)\n",
    "                     for file in os.listdir(path) if file.endswith('.JPG')]\n",
    "    return image_files\n",
    "\n"
   ]
  },
  {
   "cell_type": "markdown",
   "metadata": {
    "colab_type": "text",
    "id": "_jRARxh6RmXp"
   },
   "source": [
    "# **Displaying Images**"
   ]
  },
  {
   "cell_type": "code",
   "execution_count": 3,
   "metadata": {
    "colab": {},
    "colab_type": "code",
    "id": "MogmXqbeRhsg"
   },
   "outputs": [],
   "source": [
    "# Display two images\n",
    "def display(a, b, title1 = \"Original\", title2 = \"Edited\"):\n",
    "    plt.subplot(121), plt.imshow(a), plt.title(title1)\n",
    "    plt.xticks([]), plt.yticks([])\n",
    "    plt.subplot(122), plt.imshow(b), plt.title(title2)\n",
    "    plt.xticks([]), plt.yticks([])\n",
    "    plt.show()\n",
    "\n",
    "# Display one image\n",
    "def display_one(a, title1 = \"Original\"):\n",
    "    plt.imshow(a), plt.title(title1)\n",
    "    plt.show()\n",
    "\n"
   ]
  },
  {
   "cell_type": "code",
   "execution_count": 4,
   "metadata": {},
   "outputs": [],
   "source": [
    "def center_crop(img, dim):\n",
    "    \"\"\"Returns center cropped image\n",
    "\n",
    "    Args:Image Scaling\n",
    "    img: image to be center cropped\n",
    "    dim: dimensions (width, height) to be cropped from center\n",
    "    \"\"\"\n",
    "    width, height = img.shape[1], img.shape[0]\n",
    "    \n",
    "    #process crop width and height for max available dimension\n",
    "    crop_width = dim[0] if dim[0]<img.shape[1] else img.shape[1]\n",
    "    crop_height = dim[1] if dim[1]<img.shape[0] else img.shape[0] \n",
    "    \n",
    "    mid_x, mid_y = int(width/2), int(height/2)\n",
    "    cw2, ch2 = int(crop_width/2), int(crop_height/2) \n",
    "    crop_img = img[mid_y-ch2:mid_y+ch2, mid_x-cw2:mid_x+cw2]\n",
    "    \n",
    "    return crop_img"
   ]
  },
  {
   "cell_type": "markdown",
   "metadata": {
    "colab_type": "text",
    "id": "pD3e08HvWsF3"
   },
   "source": [
    "# Preprocessing the images:\n",
    "* Read image\n",
    "* Resize image \n",
    "* Remove noise(Denoise)\n",
    "* Segmentation\n",
    "* Morphology(smoothing edges)"
   ]
  },
  {
   "cell_type": "code",
   "execution_count": 5,
   "metadata": {
    "colab": {},
    "colab_type": "code",
    "id": "fEFZjImBRsX5"
   },
   "outputs": [],
   "source": [
    "# Preprocessing\n",
    "def processing(data):\n",
    "    \n",
    "    for i in range(len(data[:4215])):\n",
    "        img = [cv2.imread(i, cv2.IMREAD_GRAYSCALE) for i in data[i:i+1]]\n",
    "        \n",
    "        crop_height = 1500\n",
    "        crop_width = 1500\n",
    "        crop_dim = (crop_width, crop_height)\n",
    "        \n",
    "        height = 220\n",
    "        width = 220\n",
    "        dim = (width, height)\n",
    "        \n",
    "        res_img = []\n",
    "        \n",
    "        for i in range(len(img)):\n",
    "            cropped_img = center_crop(img[i], crop_dim)\n",
    "            res = cv2.resize(cropped_img, dim, interpolation=cv2.INTER_LINEAR)\n",
    "            res_img.append(res)\n",
    "        \n",
    "        no_noise = []\n",
    "\n",
    "        blur = cv2.GaussianBlur(res_img[0], (5, 5), 0)\n",
    "        no_noise.append(blur)\n",
    "            \n",
    "        result = data[i].index('\\Irisimage')\n",
    "        file_name = data[i][result+11:]\n",
    "        os.chdir(r\"C:\\Users\\User\\Documents\\Dataset eye\\Dataset\\Preprocessed\")\n",
    "        \n",
    "        cv2.imwrite(\"pr_\" + str(time.time() * 1000) + \".JPG\", no_noise[0])\n",
    "    \n",
    "\n",
    "    #img = [cv2.imread(i, cv2.IMREAD_UNCHANGED) for i in data[:1000]]\n",
    "    #try:\n",
    "    #    print('Original size',img[0].shape)\n",
    "    #except AttributeError:\n",
    "    #    print(\"shape not found\")\n",
    "   \n",
    "    # --------------------------------\n",
    "    # setting dim of the resize\n",
    "    \n",
    "    #for i in range(len(img)):\n",
    "    #    res = cv2.resize(img[i], dim, interpolation=cv2.INTER_LINEAR)\n",
    "    #    res_img.append(res)\n",
    "\n",
    "    # Checcking the size\n",
    "    #try:\n",
    "    #    print('RESIZED', res_img[1].shape)\n",
    "    #except AttributeError:\n",
    "    #    print(\"shape not found\")\n",
    "    \n",
    "    \n",
    "    # Visualizing one of the images in the array\n",
    "   #original = res_img[1]\n",
    "   #display_one(original)\n",
    "    # ----------------------------------\n",
    "    # Remove noise\n",
    "    # Using Gaussian Blur\n",
    "    #no_noise = []\n",
    "    #for i in range(len(res_img)):\n",
    "    #    blur = cv2.GaussianBlur(res_img[i], (5, 5), 0)\n",
    "    #    no_noise.append(blur)\n",
    "\n",
    "\n",
    "    #image = no_noise[1]\n",
    "    #display(original, image, 'Original', 'Blured')\n",
    "    #---------------------------------\n",
    "    # Segmentation\n",
    "    #gray = cv2.cvtColor(image, cv2.COLOR_RGB2GRAY)\n",
    "    #ret, thresh = cv2.threshold(gray, 0, 255, cv2.THRESH_BINARY_INV + cv2.THRESH_OTSU)\n",
    "#\n",
    "    ## Displaying segmented images\n",
    "    #display(original, thresh, 'Original', 'Segmented')\n",
    "    # Further noise removal (Morphology)\n",
    "    #kernel = np.ones((3, 3), np.uint8)\n",
    "    #opening = cv2.morphologyEx(thresh, cv2.MORPH_OPEN, kernel, iterations=2)\n",
    "#\n",
    "    ## sure background area\n",
    "    #sure_bg = cv2.dilate(opening, kernel, iterations=3)\n",
    "\n",
    "    # Finding sure foreground area\n",
    "    #dist_transform = cv2.distanceTransform(opening, cv2.DIST_L2, 5)\n",
    "    #ret, sure_fg = cv2.threshold(dist_transform, 0.7 * dist_transform.max(), 255, 0)\n",
    "\n",
    "    # Finding unknown region\n",
    "    #sure_fg = np.uint8(sure_fg)\n",
    "    #unknown = cv2.subtract(sure_bg, sure_fg)\n",
    "\n",
    "    #Displaying segmented back ground\n",
    "    #display(original, sure_bg, 'Original', 'Segmented Background')\n",
    "\n",
    "    # Marker labelling\n",
    "    #ret, markers = cv2.connectedComponents(sure_fg)\n",
    "\n",
    "    # Add one to all labels so that sure background is not 0, but 1\n",
    "    #markers = markers + 1\n",
    "\n",
    "    # Now, mark the region of unknown with zero\n",
    "    #markers[unknown == 255] = 0\n",
    "\n",
    "    #markers = cv2.watershed(image, markers)\n",
    "    #image[markers == -1] = [255, 0, 0]\n",
    "\n",
    "    # Displaying markers on the image\n",
    "    #display(original, markers, 'Original', 'Marked')"
   ]
  },
  {
   "cell_type": "markdown",
   "metadata": {
    "colab_type": "text",
    "id": "98rA-U8pXS0g"
   },
   "source": [
    "# Main Function the heart of the program"
   ]
  },
  {
   "cell_type": "code",
   "execution_count": 6,
   "metadata": {
    "colab": {
     "base_uri": "https://localhost:8080/",
     "height": 1395
    },
    "colab_type": "code",
    "id": "3E94MjxkR_hI",
    "outputId": "491ec146-1dc7-43c3-e1ba-f8cce465846f",
    "scrolled": true
   },
   "outputs": [
    {
     "name": "stdout",
     "output_type": "stream",
     "text": [
      "4215\n",
      "List of files the first 3 in the folder:\n",
      " ['C:\\\\Users\\\\User\\\\Documents\\\\Dataset eye\\\\Dataset\\\\Dataset\\\\Irisimage\\\\100L1.JPG', 'C:\\\\Users\\\\User\\\\Documents\\\\Dataset eye\\\\Dataset\\\\Dataset\\\\Irisimage\\\\100L2.JPG', 'C:\\\\Users\\\\User\\\\Documents\\\\Dataset eye\\\\Dataset\\\\Dataset\\\\Irisimage\\\\100L3.JPG']\n",
      "--------------------------------\n"
     ]
    }
   ],
   "source": [
    "def main():\n",
    "    # calling global variable\n",
    "    global image_path\n",
    "    '''The var Dataset is a list with all images in the folder '''\n",
    "    dataset = loadImages(image_path)\n",
    "    print(len(dataset))\n",
    "    print(\"List of files the first 3 in the folder:\\n\",dataset[:3])\n",
    "    print(\"--------------------------------\")\n",
    "    \n",
    "    # sending all the images to pre-processing\n",
    "    processing(dataset)\n",
    "   \n",
    "\n",
    "  \n",
    "main()"
   ]
  },
  {
   "cell_type": "code",
   "execution_count": null,
   "metadata": {},
   "outputs": [],
   "source": []
  },
  {
   "cell_type": "code",
   "execution_count": null,
   "metadata": {},
   "outputs": [],
   "source": []
  },
  {
   "cell_type": "code",
   "execution_count": null,
   "metadata": {},
   "outputs": [],
   "source": []
  }
 ],
 "metadata": {
  "accelerator": "GPU",
  "colab": {
   "collapsed_sections": [],
   "include_colab_link": true,
   "name": "Preprocessing.ipynb",
   "provenance": [],
   "toc_visible": true,
   "version": "0.3.2"
  },
  "kernelspec": {
   "display_name": "Python 3",
   "language": "python",
   "name": "python3"
  },
  "language_info": {
   "codemirror_mode": {
    "name": "ipython",
    "version": 3
   },
   "file_extension": ".py",
   "mimetype": "text/x-python",
   "name": "python",
   "nbconvert_exporter": "python",
   "pygments_lexer": "ipython3",
   "version": "3.8.5"
  }
 },
 "nbformat": 4,
 "nbformat_minor": 1
}
